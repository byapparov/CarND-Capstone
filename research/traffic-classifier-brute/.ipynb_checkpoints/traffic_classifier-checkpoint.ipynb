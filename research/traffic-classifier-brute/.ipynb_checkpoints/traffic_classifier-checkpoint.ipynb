{
 "cells": [
  {
   "cell_type": "code",
   "execution_count": 2,
   "metadata": {},
   "outputs": [
    {
     "ename": "ModuleNotFoundError",
     "evalue": "No module named 'cv2'",
     "output_type": "error",
     "traceback": [
      "\u001b[0;31m---------------------------------------------------------------------------\u001b[0m",
      "\u001b[0;31mModuleNotFoundError\u001b[0m                       Traceback (most recent call last)",
      "\u001b[0;32m<ipython-input-2-fbef82bcf226>\u001b[0m in \u001b[0;36m<module>\u001b[0;34m()\u001b[0m\n\u001b[1;32m      3\u001b[0m \u001b[0;32mimport\u001b[0m \u001b[0mmatplotlib\u001b[0m\u001b[0;34m\u001b[0m\u001b[0m\n\u001b[1;32m      4\u001b[0m \u001b[0;32mimport\u001b[0m \u001b[0mmatplotlib\u001b[0m\u001b[0;34m.\u001b[0m\u001b[0mpyplot\u001b[0m \u001b[0;32mas\u001b[0m \u001b[0mplt\u001b[0m\u001b[0;34m\u001b[0m\u001b[0m\n\u001b[0;32m----> 5\u001b[0;31m \u001b[0;32mimport\u001b[0m \u001b[0mcv2\u001b[0m\u001b[0;34m\u001b[0m\u001b[0m\n\u001b[0m\u001b[1;32m      6\u001b[0m \u001b[0;32mimport\u001b[0m \u001b[0mrandom\u001b[0m\u001b[0;34m\u001b[0m\u001b[0m\n\u001b[1;32m      7\u001b[0m \u001b[0;32mimport\u001b[0m \u001b[0mos\u001b[0m\u001b[0;34m\u001b[0m\u001b[0m\n",
      "\u001b[0;31mModuleNotFoundError\u001b[0m: No module named 'cv2'"
     ]
    }
   ],
   "source": [
    "import numpy as np  # linear algebra\n",
    "%matplotlib inline\n",
    "import matplotlib\n",
    "import matplotlib.pyplot as plt\n",
    "import cv2\n",
    "import random\n",
    "import os\n",
    "\n",
    "## First step is to load in the data\n",
    "\n",
    "path_box = \"../labeled_data/Annotations/Annotations/daySequence1/frameAnnotationsBOX.csv\"\n",
    "path_bulb = \"../labeled_data/Annotations/Annotations/daySequence1/frameAnnotationsBULB.csv\"\n",
    "frames_path = \"../labeled_data/daySequence1/daySequence1/frames\"\n",
    "\n",
    "frame_id = random.choice(os.listdir(frames_path))\n",
    "frame_path = os.path.join(os.path.join(frames_path,frame_id))\n",
    "print(\"Found image:\\t'{}'\\nLocation:\\t'{}'\".format(frame_id, frame_path))\n",
    "\n",
    "# Plot annotations on image\n",
    "color_space = [(0,255,0),(255,0,0),(255,0,0)]\n",
    "img = cv2.imread(frame_path)\n",
    "img = cv2.cvtColor(img, cv2.COLOR_BGR2RGB)\n",
    "\n",
    "#annotations = []\n",
    "#with open(path_box) as fp:  \n",
    "#    line = fp.readline()\n",
    "#    line = fp.readline() # Skip header line with descriptions\n",
    "#    #cnt = 1\n",
    "#    while line:\n",
    "#        anno_file_path = (line.strip()).split(\";\")\n",
    "#        anno_file_id = anno_file_path[0].split(\"/\")[1]\n",
    "#        if anno_file_id == frame_id:\n",
    "#            annotations.append(anno_file_path)\n",
    "#            #print(\"\\t{}\".format(anno_file_id))\n",
    "#        line = fp.readline()\n",
    "\n",
    "## Second step is to create a labeled dataset such that if the image contains any red lights, it will be labeled \"stop\", otherwise it will be labeled go."
   ]
  },
  {
   "cell_type": "code",
   "execution_count": null,
   "metadata": {
    "collapsed": true
   },
   "outputs": [],
   "source": []
  },
  {
   "cell_type": "code",
   "execution_count": null,
   "metadata": {
    "collapsed": true
   },
   "outputs": [],
   "source": []
  }
 ],
 "metadata": {
  "kernelspec": {
   "display_name": "Python 3",
   "language": "python",
   "name": "python3"
  },
  "language_info": {
   "codemirror_mode": {
    "name": "ipython",
    "version": 3
   },
   "file_extension": ".py",
   "mimetype": "text/x-python",
   "name": "python",
   "nbconvert_exporter": "python",
   "pygments_lexer": "ipython3",
   "version": "3.6.3"
  }
 },
 "nbformat": 4,
 "nbformat_minor": 2
}
