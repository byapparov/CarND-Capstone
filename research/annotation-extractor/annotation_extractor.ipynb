{
 "cells": [
  {
   "cell_type": "code",
   "execution_count": 2,
   "metadata": {},
   "outputs": [],
   "source": [
    "import numpy as np\n",
    "%matplotlib inline\n",
    "import matplotlib\n",
    "import matplotlib.pyplot as plt\n",
    "import cv2\n",
    "import random\n",
    "import os\n",
    "import csv\n",
    "\n",
    "## First step is to load in the data\n",
    "\n",
    "path_box = \"../labeled-data/Annotations/Annotations/daySequence1/frameAnnotationsBOX.csv\"\n",
    "path_bulb = \"../labeled-data/Annotations/Annotations/daySequence1/frameAnnotationsBULB.csv\"\n",
    "frames_path = \"../labeled-data/daySequence1/daySequence1/frames/\"\n",
    "\n",
    "\n",
    "file_paths=[]\n",
    "frame_ids=[]\n",
    "for filename in os.listdir(frames_path):\n",
    "    if filename.endswith(\".jpg\") or filename.endswith(\".png\"):\n",
    "        file_paths.append(os.path.join(frames_path, filename))\n",
    "        frame_ids.append(filename)\n",
    "        \n",
    "    else:\n",
    "        continue\n",
    "        \n",
    "frame_annotations = {}\n",
    "\n",
    "\n",
    "with open(path_box) as fp:  \n",
    "    line = fp.readline()\n",
    "    line = fp.readline() # Skip header line with descriptions\n",
    "    while line:\n",
    "        annotation = (line.strip()).split(\";\")\n",
    "        frame_id = annotation[0].split(\"/\")[1]\n",
    "        if frame_id in frame_annotations:\n",
    "            frame_annotations[frame_id].append(annotation)\n",
    "        else:\n",
    "            frame_annotations[frame_id] = [annotation]\n",
    "        line = fp.readline()\n",
    "        \n",
    "\n",
    "with open('../labeled-data/labels.csv', 'w', newline='') as csvfile: \n",
    "    writer = csv.writer(csvfile, delimiter=',', quotechar='|', quoting=csv.QUOTE_MINIMAL)\n",
    "    for i in range(len(file_paths)):\n",
    "        img = cv2.imread(file_paths[i])\n",
    "        frame_id = frame_ids[i]\n",
    "        if frame_id in frame_annotations:\n",
    "            annotations = frame_annotations[frame_id]\n",
    "            for j,anno in enumerate(annotations):\n",
    "                anno_class = anno[1]\n",
    "                anno_left = int(anno[2])\n",
    "                anno_top = int(anno[3])\n",
    "                anno_right = int(anno[4])\n",
    "                anno_bot = int(anno[5])\n",
    "                #print(\"\\tClass: '{}' at [{},{},{},{}]\".format(anno_class, anno_left, anno_top, anno_right, anno_bot))\n",
    "                crop_img = img[anno_top:anno_bot, anno_left:anno_right]\n",
    "                filename = 'img_' + str(i) + '_'+ str(j) +'.jpg'\n",
    "                writer.writerow([filename,anno_class])\n",
    "                cv2.imwrite(os.path.join('../labeled-data/segmented-images',filename), crop_img)\n",
    "\n"
   ]
  },
  {
   "cell_type": "code",
   "execution_count": null,
   "metadata": {
    "collapsed": true
   },
   "outputs": [],
   "source": []
  },
  {
   "cell_type": "code",
   "execution_count": null,
   "metadata": {
    "collapsed": true
   },
   "outputs": [],
   "source": []
  }
 ],
 "metadata": {
  "kernelspec": {
   "display_name": "udacity",
   "language": "python",
   "name": "udacity"
  },
  "language_info": {
   "codemirror_mode": {
    "name": "ipython",
    "version": 3
   },
   "file_extension": ".py",
   "mimetype": "text/x-python",
   "name": "python",
   "nbconvert_exporter": "python",
   "pygments_lexer": "ipython3",
   "version": "3.7.7"
  }
 },
 "nbformat": 4,
 "nbformat_minor": 2
}
