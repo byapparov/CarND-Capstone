{
 "cells": [
  {
   "cell_type": "code",
   "execution_count": 1,
   "metadata": {
    "collapsed": true
   },
   "outputs": [],
   "source": [
    "import csv\n",
    "import os\n",
    "import matplotlib\n",
    "import matplotlib.pyplot as plt\n",
    "import numpy as np\n",
    "import cv2\n",
    "\n",
    "#Parameters\n",
    "MIN_AREA_FOR_STOP = 3\n",
    "MIN_COMPACTNESS_FOR_BULB = 0.04\n",
    "LOWER_RED = np.array([90-30,30,40])\n",
    "UPPER_RED = np.array([90+30,255,255])\n",
    "\n",
    "image_dir = '../labeled-data/segmented-images'\n",
    "filenames = []\n",
    "labels = []\n",
    "states = []\n",
    "\n",
    "with open('../labeled-data/labels.csv', newline='') as csvfile:\n",
    "    csvreader = csv.reader(csvfile, delimiter=',', quotechar='|')\n",
    "    for row in csvreader:\n",
    "        filenames.append(row[0])\n",
    "        labels.append(row[1])\n",
    "        \n",
    "filepaths = [os.path.join(image_dir,filename)for filename in filenames]\n"
   ]
  },
  {
   "cell_type": "code",
   "execution_count": 2,
   "metadata": {},
   "outputs": [
    {
     "name": "stdout",
     "output_type": "stream",
     "text": [
      "Percent misclassified: 0.0\n",
      "Percent stop missed: 0.0\n"
     ]
    }
   ],
   "source": [
    "def extract_red_area(img):\n",
    "    img = cv2.cvtColor(img, cv2.COLOR_BGR2RGB)\n",
    "    img_inv = cv2.bitwise_not(img)\n",
    "    hsv=cv2.cvtColor(img_inv, cv2.COLOR_RGB2HSV);\n",
    "    mask = cv2.inRange(hsv, LOWER_RED, UPPER_RED)\n",
    "    im2, contours,hierarchy = cv2.findContours(mask, 1, 2)\n",
    "    largest_area = 0\n",
    "    perimeter = 0\n",
    "    if(contours):\n",
    "        for contour in contours:\n",
    "            area = cv2.contourArea(contour)\n",
    "            if area>largest_area:\n",
    "                largest_area=area\n",
    "                perimeter = cv2.arcLength(contour, True)\n",
    "    return mask, largest_area, perimeter\n",
    "\n",
    "for filepath in filepaths:\n",
    "    img = cv2.imread(filepath)\n",
    "    mask, area, perimeter = extract_red_area(img)\n",
    "    if area > MIN_AREA_FOR_STOP and area/(perimeter*perimeter)> MIN_COMPACTNESS_FOR_BULB:\n",
    "        state = 'stop'\n",
    "        #print(area/(perimeter*perimeter))\n",
    "    else:\n",
    "        state = 'go'\n",
    "    states.append(state)\n",
    "        \n",
    "misclassified_idxs = []\n",
    "for i in range(len(labels)):\n",
    "    if states[i] != labels[i]:\n",
    "        misclassified_idxs.append(i)\n",
    "   \n",
    "total_stop = 0\n",
    "total_stop_missed = 0\n",
    "for i in range(len(labels)):\n",
    "    if labels[i]=='stop':\n",
    "        total_stop = total_stop + 1\n",
    "        if states[i]!='stop':\n",
    "            total_stop_missed = total_stop_missed + 1\n",
    "        \n",
    "print(\"Percent misclassified: \" + str(100*len(misclassified_idxs)/len(labels)))\n",
    "print(\"Percent stop missed: \" + str(100*total_stop_missed/total_stop))\n",
    "        "
   ]
  },
  {
   "cell_type": "code",
   "execution_count": 3,
   "metadata": {},
   "outputs": [],
   "source": [
    "for idx in misclassified_idxs:\n",
    "    filepath = filepaths[idx]\n",
    "    img = cv2.imread(filepath)\n",
    "    mask, area, perimeter = extract_red_area(img)\n",
    "    img = cv2.cvtColor(img, cv2.COLOR_BGR2RGB)\n",
    "    plt.imshow(img)\n",
    "    plt.title(\"Prediction: \" +states[idx] + \" Actual: \" + labels[idx])\n",
    "    plt.show()\n",
    "    plt.imshow(mask)\n",
    "    plt.title(area)\n",
    "    plt.show()\n",
    "    print(\"Area: \"+str(area) )\n",
    "    print(\"Perimeter: \"+str(perimeter) )\n",
    "    if(perimeter>0):\n",
    "        print(\"Area/Perimeter^2: \"+str(area/(perimeter*perimeter)) )\n",
    "    #cv2.imshow(states[idx], img)\n",
    "    input(\"Press Enter to continue...\")\n",
    "    "
   ]
  },
  {
   "cell_type": "code",
   "execution_count": 4,
   "metadata": {},
   "outputs": [
    {
     "data": {
      "text/plain": [
       "89"
      ]
     },
     "execution_count": 4,
     "metadata": {},
     "output_type": "execute_result"
    }
   ],
   "source": [
    "\n"
   ]
  },
  {
   "cell_type": "code",
   "execution_count": null,
   "metadata": {
    "collapsed": true
   },
   "outputs": [],
   "source": []
  }
 ],
 "metadata": {
  "kernelspec": {
   "display_name": "udacity",
   "language": "python",
   "name": "udacity"
  },
  "language_info": {
   "codemirror_mode": {
    "name": "ipython",
    "version": 3
   },
   "file_extension": ".py",
   "mimetype": "text/x-python",
   "name": "python",
   "nbconvert_exporter": "python",
   "pygments_lexer": "ipython3",
   "version": "3.7.7"
  }
 },
 "nbformat": 4,
 "nbformat_minor": 2
}
